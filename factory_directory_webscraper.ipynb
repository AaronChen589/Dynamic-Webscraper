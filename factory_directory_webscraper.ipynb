{
 "cells": [
  {
   "cell_type": "code",
   "execution_count": 31,
   "metadata": {},
   "outputs": [],
   "source": [
    "import pandas as pd\n",
    "import requests\n",
    "import html5lib\n",
    "from selenium import webdriver\n",
    "from bs4 import BeautifulSoup\n",
    "from selenium.webdriver.common.by import By\n",
    "import time"
   ]
  },
  {
   "cell_type": "code",
   "execution_count": 83,
   "metadata": {},
   "outputs": [],
   "source": [
    "driver = webdriver.Chrome() # requires chromedriver to be downloaded\n",
    "url = \"https://factoringdirectory.org/\"\n",
    "#base_url = \"https://factoringdirectory.org/industry/agriculture/page/{}/\"\n",
    "factoring_industries = []\n",
    "driver.get(url)"
   ]
  },
  {
   "cell_type": "code",
   "execution_count": 84,
   "metadata": {},
   "outputs": [
    {
     "name": "stdout",
     "output_type": "stream",
     "text": [
      "Name: Agriculture & Produce Factoring Companies, Link: https://factoringdirectory.org/industry/agriculture/\n",
      "Name: Apparel & Textiles, Link: https://factoringdirectory.org/industry/apparel-textiles/\n",
      "Name: Automotive Factoring Companies, Link: https://factoringdirectory.org/industry/automotive/\n",
      "Name: Cable Installers & Technicians, Link: https://factoringdirectory.org/industry/cable-installers/\n",
      "Name: Construction, Link: https://factoringdirectory.org/industry/construction/\n",
      "Name: Freight and Trucking Factoring Companies, Link: https://factoringdirectory.org/industry/freight-trucking/\n",
      "Name: Government, Link: https://factoringdirectory.org/industry/government/\n",
      "Name: Healthcare & Medical Factoring, Link: https://factoringdirectory.org/industry/healthcare/\n",
      "Name: International Factoring Companies, Link: https://factoringdirectory.org/industry/international-trade/\n",
      "Name: Janitorial & Maintenance, Link: https://factoringdirectory.org/industry/janitorial-maintenance/\n",
      "Name: Manufacturing Factoring Companies, Link: https://factoringdirectory.org/industry/manufacturing/\n",
      "Name: Oil & Gas Factoring, Link: https://factoringdirectory.org/industry/oil-gas/\n",
      "Name: Payroll Factoring Companies, Link: https://factoringdirectory.org/industry/payroll/\n",
      "Name: Renewable Energy, Link: https://factoringdirectory.org/industry/energy/\n",
      "Name: Service Providers, Link: https://factoringdirectory.org/industry/service-providers/\n",
      "Name: Small Business, Link: https://factoringdirectory.org/industry/small-business/\n",
      "Name: Staffing Factoring Companies, Link: https://factoringdirectory.org/industry/staffing/\n",
      "Name: Technology & IT, Link: https://factoringdirectory.org/industry/technology/\n",
      "Name: Telecom Factoring Companies, Link: https://factoringdirectory.org/industry/telecommunications/\n",
      "Name: Warehousing & Distribution, Link: https://factoringdirectory.org/industry/warehousing-distribution/\n"
     ]
    }
   ],
   "source": [
    "industries = driver.find_elements(By.CSS_SELECTOR, \"div.one-fourth.industry-listing a\")\n",
    "for industry in industries:\n",
    "    industry_name = industry.text.strip()\n",
    "    industry_link = industry.get_attribute(\"href\")\n",
    "    print(f\"Name: {industry_name}, Link: {industry_link}\")\n",
    "    factoring_industries.append({\"Industry Type\":industry_name, \"Link\":industry_link})"
   ]
  },
  {
   "cell_type": "code",
   "execution_count": 88,
   "metadata": {},
   "outputs": [],
   "source": [
    "industries_df = pd.DataFrame(factoring_industries)\n",
    "industries = industries_df[\"Link\"].to_list"
   ]
  },
  {
   "cell_type": "code",
   "execution_count": null,
   "metadata": {},
   "outputs": [
    {
     "ename": "TypeError",
     "evalue": "'WebElement' object is not subscriptable",
     "output_type": "error",
     "traceback": [
      "\u001b[1;31m---------------------------------------------------------------------------\u001b[0m",
      "\u001b[1;31mTypeError\u001b[0m                                 Traceback (most recent call last)",
      "Cell \u001b[1;32mIn[79], line 5\u001b[0m\n\u001b[0;32m      3\u001b[0m \u001b[38;5;28;01mfor\u001b[39;00m industry \u001b[38;5;129;01min\u001b[39;00m industries:\n\u001b[0;32m      4\u001b[0m     page \u001b[38;5;241m=\u001b[39m \u001b[38;5;241m1\u001b[39m\n\u001b[1;32m----> 5\u001b[0m     base_url \u001b[38;5;241m=\u001b[39m \u001b[38;5;124mf\u001b[39m\u001b[38;5;124m\"\u001b[39m\u001b[38;5;132;01m{\u001b[39;00mindustry[\u001b[38;5;124m'\u001b[39m\u001b[38;5;124mLink\u001b[39m\u001b[38;5;124m'\u001b[39m]\u001b[38;5;132;01m}\u001b[39;00m\u001b[38;5;124m\"\u001b[39m\n\u001b[0;32m      6\u001b[0m     \u001b[38;5;28;01mwhile\u001b[39;00m \u001b[38;5;28;01mTrue\u001b[39;00m:\n\u001b[0;32m      7\u001b[0m         \u001b[38;5;28;01mtry\u001b[39;00m:\n",
      "\u001b[1;31mTypeError\u001b[0m: 'WebElement' object is not subscriptable"
     ]
    }
   ],
   "source": [
    "industry_companies= []\n",
    "\n",
    "for industry in industries:\n",
    "    page = 1\n",
    "    base_url = f\"{industry}\"\n",
    "    while True:\n",
    "        try:\n",
    "            url = base_url.format(page) # Dynamically increments page # each iteration\n",
    "            print(f\"Scraping page{page}: {url}\")\n",
    "            driver.get(url)\n",
    "            time.sleep(5) \n",
    "            companies = driver.find_elements(By.CSS_SELECTOR, \"div.listing-info a\")\n",
    "\n",
    "            # If list is empty, go to next page\n",
    "            if not companies:\n",
    "                print(\"We've reached the last page\")\n",
    "                break\n",
    "            \n",
    "            # Extract company name and link from list\n",
    "            for company in companies:\n",
    "                company_name = company.text.strip()\n",
    "                company_link = company.get_attribute(\"href\")\n",
    "                print(f\"Name: {company_name}, Link: {company_link}\")\n",
    "                industry_companies.append({\"Company Name\":company_name, \"Link\":company_link})\n",
    "\n",
    "            page +=1 # Go to next page\n",
    "\n",
    "        except Exception as e:\n",
    "            print(f\"Error Occured on Page{page}: {e}\")\n",
    "\n",
    "\n",
    "print(\"---- WEBSCRAPING DONE ----\")"
   ]
  },
  {
   "cell_type": "code",
   "execution_count": 74,
   "metadata": {},
   "outputs": [],
   "source": [
    "driver.quit()"
   ]
  },
  {
   "cell_type": "code",
   "execution_count": null,
   "metadata": {},
   "outputs": [],
   "source": [
    "companies_df = pd.DataFrame(industry_companies)"
   ]
  },
  {
   "cell_type": "code",
   "execution_count": 44,
   "metadata": {},
   "outputs": [],
   "source": [
    "companies_df.to_csv('companies.csv',index=False)"
   ]
  }
 ],
 "metadata": {
  "language_info": {
   "name": "python"
  }
 },
 "nbformat": 4,
 "nbformat_minor": 2
}
